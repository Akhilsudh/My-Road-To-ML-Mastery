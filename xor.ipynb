{
 "cells": [
  {
   "cell_type": "code",
   "execution_count": 102,
   "metadata": {},
   "outputs": [],
   "source": [
    "# Make necessary imports\n",
    "import numpy\n",
    "from keras.models import Sequential\n",
    "from keras.layers import Dense\n",
    "from keras.layers import Dropout\n",
    "from keras.utils import np_utils\n",
    "\n",
    "# Select a consant seed to repeat the solution later\n",
    "seed = 8\n",
    "numpy.random.seed(seed)\n",
    "\n",
    "#\n",
    "X_train = [[0 , 0],[0 , 1],[1 , 0],[1 , 1]]\n",
    "y_train = [0, 1, 1, 0]\n",
    "X_train1 = X_train\n",
    "X_train = numpy.array(X_train)\n",
    "y_train = numpy.array(y_train)\n",
    "X_test = X_train\n",
    "y_test = y_train\n",
    "\n",
    "# Introduce one hot encoding for each class\n",
    "y_train = np_utils.to_categorical(y_train)\n",
    "y_test = np_utils.to_categorical(y_test)\n"
   ]
  },
  {
   "cell_type": "code",
   "execution_count": 103,
   "metadata": {},
   "outputs": [],
   "source": [
    "# Define a navie model\n",
    "def naiveModel():\n",
    "    # Create the model\n",
    "    model = Sequential()\n",
    "    # 1 hidden layer with same number of neurons as inputs\n",
    "    model.add(Dense(5, input_dim = 2, kernel_initializer = 'normal', activation = 'relu'))\n",
    "    # 1 Output softmax layer giving probability values for the 10 classes\n",
    "    model.add(Dense(2, kernel_initializer = 'normal', activation = 'softmax'))\n",
    "    # Compile the above model\n",
    "    model.compile(loss = 'categorical_crossentropy', optimizer = 'adam', metrics = ['accuracy'])\n",
    "    return model"
   ]
  },
  {
   "cell_type": "code",
   "execution_count": 104,
   "metadata": {},
   "outputs": [
    {
     "name": "stdout",
     "output_type": "stream",
     "text": [
      "[[0.9818263  0.01817373]]\n",
      "[[0.00643135 0.99356866]]\n",
      "[[0.00689363 0.9931064 ]]\n",
      "[[0.9940653  0.00593474]]\n",
      "Error : 0.00%\n"
     ]
    }
   ],
   "source": [
    "modelInstance = naiveModel()\n",
    "\n",
    "modelInstance.fit(X_train, y_train, validation_data = (X_test, y_test), epochs = 2000, batch_size = 1, verbose = 0)\n",
    "for pred in X_train1:\n",
    "    prediction = modelInstance.predict(numpy.array([pred]), verbose = 2)\n",
    "    print(prediction)\n",
    "scores = modelInstance.evaluate(X_test, y_test, verbose = 0)\n",
    "print(\"Error : %.2f%%\" % (100-scores[1]*100))"
   ]
  },
  {
   "cell_type": "code",
   "execution_count": null,
   "metadata": {},
   "outputs": [],
   "source": []
  }
 ],
 "metadata": {
  "kernelspec": {
   "display_name": "Python 2",
   "language": "python",
   "name": "python2"
  },
  "language_info": {
   "codemirror_mode": {
    "name": "ipython",
    "version": 2
   },
   "file_extension": ".py",
   "mimetype": "text/x-python",
   "name": "python",
   "nbconvert_exporter": "python",
   "pygments_lexer": "ipython2",
   "version": "2.7.15rc1"
  }
 },
 "nbformat": 4,
 "nbformat_minor": 2
}
