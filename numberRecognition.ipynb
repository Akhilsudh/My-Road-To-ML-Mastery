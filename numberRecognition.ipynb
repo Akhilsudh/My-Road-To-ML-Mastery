{
 "cells": [
  {
   "cell_type": "code",
   "execution_count": 2,
   "metadata": {},
   "outputs": [
    {
     "data": {
      "text/plain": [
       "<Figure size 640x480 with 4 Axes>"
      ]
     },
     "metadata": {},
     "output_type": "display_data"
    }
   ],
   "source": [
    "from keras.datasets import mnist\n",
    "import matplotlib.pyplot as plt\n",
    "# load (downloaded if needed) the MNIST dataset\n",
    "(X_train, y_train), (X_test, y_test) = mnist.load_data()\n",
    "# plot 4 images as gray scale\n",
    "plt.subplot(221)\n",
    "plt.imshow(X_train[0], cmap=plt.get_cmap('gray'))\n",
    "plt.subplot(222)\n",
    "plt.imshow(X_train[1], cmap=plt.get_cmap('gray'))\n",
    "plt.subplot(223)\n",
    "plt.imshow(X_train[2], cmap=plt.get_cmap('gray'))\n",
    "plt.subplot(224)\n",
    "plt.imshow(X_train[3], cmap=plt.get_cmap('gray'))\n",
    "# show the plot of 4 images\n",
    "plt.show()"
   ]
  },
  {
   "cell_type": "code",
   "execution_count": 3,
   "metadata": {},
   "outputs": [],
   "source": [
    "# Make necessary imports\n",
    "import numpy\n",
    "from keras.models import Sequential\n",
    "from keras.layers import Dense\n",
    "from keras.layers import Dropout\n",
    "from keras.utils import np_utils\n",
    "\n",
    "# Select a consant seed to repeat the solution later\n",
    "seed = 8\n",
    "numpy.random.seed(seed)\n",
    "\n",
    "# Split and load the 3 dimensional data\n",
    "(X_train, y_train), (X_test, y_test) = mnist.load_data()\n",
    "\n",
    "# change the 28x28 images to a single vector for each image\n",
    "# such that the values range from 0 - 1\n",
    "numberPixels = X_train.shape[1] * X_train.shape[2]\n",
    "X_train = X_train.reshape(X_train.shape[0], numberPixels).astype('float32') / 255\n",
    "X_test = X_test.reshape(X_test.shape[0], numberPixels).astype('float32') / 255\n",
    "\n",
    "# Introduce one hot encoding for each class\n",
    "y_train = np_utils.to_categorical(y_train)\n",
    "y_test = np_utils.to_categorical(y_test)\n",
    "numberClasses = y_test.shape[1]"
   ]
  },
  {
   "cell_type": "code",
   "execution_count": 4,
   "metadata": {},
   "outputs": [],
   "source": [
    "# Define a navie model\n",
    "def naiveModel():\n",
    "    # Create the model\n",
    "    model = Sequential()\n",
    "    # 1 hidden layer with same number of neurons as inputs\n",
    "    model.add(Dense(numberPixels, input_dim = numberPixels, kernel_initializer = 'normal', activation = 'relu'))\n",
    "    # 1 Output softmax layer giving probability values for the 10 classes\n",
    "    model.add(Dense(numberClasses, kernel_initializer = 'normal', activation = 'softmax'))\n",
    "    # Compile the above model\n",
    "    model.compile(loss = 'categorical_crossentropy', optimizer = 'adam', metrics = ['accuracy'])\n",
    "    return model"
   ]
  },
  {
   "cell_type": "code",
   "execution_count": 5,
   "metadata": {},
   "outputs": [
    {
     "name": "stdout",
     "output_type": "stream",
     "text": [
      "Train on 60000 samples, validate on 10000 samples\n",
      "Epoch 1/10\n",
      " - 8s - loss: 0.2794 - acc: 0.9206 - val_loss: 0.1348 - val_acc: 0.9605\n",
      "Epoch 2/10\n",
      " - 7s - loss: 0.1088 - acc: 0.9689 - val_loss: 0.0886 - val_acc: 0.9726\n",
      "Epoch 3/10\n",
      " - 7s - loss: 0.0697 - acc: 0.9804 - val_loss: 0.0747 - val_acc: 0.9773\n",
      "Epoch 4/10\n",
      " - 7s - loss: 0.0500 - acc: 0.9859 - val_loss: 0.0661 - val_acc: 0.9803\n",
      "Epoch 5/10\n",
      " - 7s - loss: 0.0354 - acc: 0.9901 - val_loss: 0.0641 - val_acc: 0.9789\n",
      "Epoch 6/10\n",
      " - 7s - loss: 0.0253 - acc: 0.9932 - val_loss: 0.0635 - val_acc: 0.9797\n",
      "Epoch 7/10\n",
      " - 7s - loss: 0.0191 - acc: 0.9955 - val_loss: 0.0606 - val_acc: 0.9815\n",
      "Epoch 8/10\n",
      " - 7s - loss: 0.0141 - acc: 0.9969 - val_loss: 0.0699 - val_acc: 0.9773\n",
      "Epoch 9/10\n",
      " - 7s - loss: 0.0106 - acc: 0.9979 - val_loss: 0.0614 - val_acc: 0.9804\n",
      "Epoch 10/10\n",
      " - 7s - loss: 0.0083 - acc: 0.9983 - val_loss: 0.0587 - val_acc: 0.9823\n",
      "Error : 1.77%\n"
     ]
    }
   ],
   "source": [
    "modelInstance = naiveModel()\n",
    "modelInstance.fit(X_train, y_train, validation_data = (X_test, y_test), epochs = 10, batch_size = 200, verbose = 2)\n",
    "scores = modelInstance.evaluate(X_test, y_test, verbose = 0)\n",
    "print(\"Error : %.2f%%\" % (100-scores[1]*100))"
   ]
  },
  {
   "cell_type": "code",
   "execution_count": null,
   "metadata": {},
   "outputs": [],
   "source": []
  }
 ],
 "metadata": {
  "kernelspec": {
   "display_name": "Python 2",
   "language": "python",
   "name": "python2"
  },
  "language_info": {
   "codemirror_mode": {
    "name": "ipython",
    "version": 2
   },
   "file_extension": ".py",
   "mimetype": "text/x-python",
   "name": "python",
   "nbconvert_exporter": "python",
   "pygments_lexer": "ipython2",
   "version": "2.7.15rc1"
  }
 },
 "nbformat": 4,
 "nbformat_minor": 2
}
