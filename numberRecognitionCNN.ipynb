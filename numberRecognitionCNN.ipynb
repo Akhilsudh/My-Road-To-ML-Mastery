{
 "cells": [
  {
   "cell_type": "code",
   "execution_count": 1,
   "metadata": {},
   "outputs": [],
   "source": [
    "import numpy\n",
    "from keras.datasets import mnist\n",
    "from keras.utils import np_utils\n",
    "from keras.models import Sequential\n",
    "from keras.layers.convolutional import Conv2D\n",
    "from keras.layers.convolutional import MaxPooling2D\n",
    "from keras.layers import Dropout\n",
    "from keras.layers import Flatten\n",
    "from keras.layers import Dense\n",
    "\n",
    "# Select a consant seed to repeat the solution later\n",
    "seed = 8\n",
    "numpy.random.seed(seed)"
   ]
  },
  {
   "cell_type": "code",
   "execution_count": 2,
   "metadata": {},
   "outputs": [],
   "source": [
    "# Split and load the 3 dimensional data\n",
    "(X_train, y_train), (X_test, y_test) = mnist.load_data()\n",
    "\n",
    "# Reshape the 28x28 images to data with a dimension [Samples][width][height][pixels]\n",
    "X_train = X_train.reshape(X_train.shape[0], 28, 28, 1).astype('float32') / 255\n",
    "X_test = X_test.reshape(X_test.shape[0], 28, 28, 1).astype('float32') / 255\n",
    "\n",
    "# Introduce one hot encoding for each class\n",
    "y_train = np_utils.to_categorical(y_train)\n",
    "y_test = np_utils.to_categorical(y_test)\n",
    "numberClasses = y_test.shape[1]"
   ]
  },
  {
   "cell_type": "code",
   "execution_count": 3,
   "metadata": {},
   "outputs": [],
   "source": [
    "# Define CNN\n",
    "def CNN():\n",
    "    # Create the model\n",
    "    model = Sequential()\n",
    "    # 1st layer is a convolution layer with 32 feature map and a 5x5\n",
    "    # sliding window. Here we specify that the input is a 28x28 image\n",
    "    model.add(Conv2D(32, (5, 5), input_shape = (28, 28, 1), activation = 'relu'))\n",
    "    # 2nd layer is a pooling layer that pools a 2x2 to the max value\n",
    "    model.add(MaxPooling2D(pool_size = (2, 2)))              \n",
    "    # 3rd layer is a dropout layer that is used to drop 20% of the \n",
    "    # activations by keeping them 0 inorder to reduce overfitting\n",
    "    model.add(Dropout(0.2))\n",
    "    # 4th layer is a flatten layer that helps in reducing the 2 dimensional\n",
    "    # matrix into a vector form so that a fully connected network can work \n",
    "    # on it\n",
    "    model.add(Flatten())\n",
    "    # 5th layer is a fully connected layer that takes in the provided vector\n",
    "    model.add(Dense(100, activation = 'relu'))\n",
    "    # 6th layer is the output softmax layer that gives the probabilty over the 10 classes\n",
    "    model.add(Dense(numberClasses, activation = 'softmax'))\n",
    "    # Compile the above model\n",
    "    model.compile(loss = 'categorical_crossentropy', optimizer = 'adam', metrics = ['accuracy'])\n",
    "    return model"
   ]
  },
  {
   "cell_type": "code",
   "execution_count": 4,
   "metadata": {},
   "outputs": [
    {
     "name": "stdout",
     "output_type": "stream",
     "text": [
      "Train on 60000 samples, validate on 10000 samples\n",
      "Epoch 1/10\n",
      " - 46s - loss: 0.2682 - acc: 0.9231 - val_loss: 0.0835 - val_acc: 0.9756\n",
      "Epoch 2/10\n",
      " - 50s - loss: 0.0780 - acc: 0.9764 - val_loss: 0.0566 - val_acc: 0.9809\n",
      "Epoch 3/10\n",
      " - 49s - loss: 0.0562 - acc: 0.9828 - val_loss: 0.0458 - val_acc: 0.9842\n",
      "Epoch 4/10\n",
      " - 49s - loss: 0.0445 - acc: 0.9865 - val_loss: 0.0389 - val_acc: 0.9866\n",
      "Epoch 5/10\n",
      " - 49s - loss: 0.0359 - acc: 0.9888 - val_loss: 0.0416 - val_acc: 0.9863\n",
      "Epoch 6/10\n",
      " - 52s - loss: 0.0312 - acc: 0.9901 - val_loss: 0.0317 - val_acc: 0.9889\n",
      "Epoch 7/10\n",
      " - 59s - loss: 0.0257 - acc: 0.9918 - val_loss: 0.0298 - val_acc: 0.9896\n",
      "Epoch 8/10\n",
      " - 50s - loss: 0.0208 - acc: 0.9936 - val_loss: 0.0319 - val_acc: 0.9896\n",
      "Epoch 9/10\n",
      " - 46s - loss: 0.0188 - acc: 0.9941 - val_loss: 0.0303 - val_acc: 0.9897\n",
      "Epoch 10/10\n",
      " - 46s - loss: 0.0155 - acc: 0.9950 - val_loss: 0.0333 - val_acc: 0.9901\n",
      "Error : 0.99%\n"
     ]
    }
   ],
   "source": [
    "# Fit data using the model and evaluate the model\n",
    "modelInstance = CNN()\n",
    "modelInstance.fit(X_train, y_train, validation_data = (X_test, y_test), epochs = 10, batch_size = 200, verbose = 2)\n",
    "scores = modelInstance.evaluate(X_test, y_test, verbose = 0)\n",
    "print(\"Error : %.2f%%\" % (100-scores[1]*100))"
   ]
  },
  {
   "cell_type": "code",
   "execution_count": null,
   "metadata": {},
   "outputs": [],
   "source": []
  }
 ],
 "metadata": {
  "kernelspec": {
   "display_name": "Python 2",
   "language": "python",
   "name": "python2"
  },
  "language_info": {
   "codemirror_mode": {
    "name": "ipython",
    "version": 2
   },
   "file_extension": ".py",
   "mimetype": "text/x-python",
   "name": "python",
   "nbconvert_exporter": "python",
   "pygments_lexer": "ipython2",
   "version": "2.7.15rc1"
  }
 },
 "nbformat": 4,
 "nbformat_minor": 2
}
